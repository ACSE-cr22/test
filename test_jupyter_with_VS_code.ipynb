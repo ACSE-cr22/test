{
 "cells": [
  {
   "cell_type": "markdown",
   "metadata": {},
   "source": [
    "Hi"
   ]
  }
 ],
 "metadata": {
  "kernelspec": {
   "display_name": "Python 3.9.13 64-bit",
   "language": "python",
   "name": "python3"
  },
  "language_info": {
   "name": "python",
   "version": "3.9.13"
  },
  "orig_nbformat": 4,
  "vscode": {
   "interpreter": {
    "hash": "7e3ce8e38b613e904e4f49f52c6468934e555fa977b4e73f9aaf464b7f503803"
   }
  }
 },
 "nbformat": 4,
 "nbformat_minor": 2
}
